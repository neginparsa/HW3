{
 "cells": [
  {
   "cell_type": "code",
   "execution_count": 78,
   "metadata": {},
   "outputs": [
    {
     "name": "stdout",
     "output_type": "stream",
     "text": [
      "<_csv.reader object at 0x10575c518>\n",
      "total Month\n",
      "41\n",
      "total Revenue\n",
      "18971412\n",
      "1154293\n",
      "average change:\n",
      "[1154293.0, -448704.0, 555394.0, 957395.0, 693464.0, 727272.0, 339251.0, 977084.0, 332681.0, 173826.0, 1189806.0, -1172384.0, 295198.0, 468995.0, 967828.0, 375723.0, 83836.0, 551363.0, 657081.0, 803301.0, 883934.0]\n",
      "Max Revenue Month\n",
      "Sep-15\n",
      "Max revenue Value\n",
      "1195111\n"
     ]
    }
   ],
   "source": [
    "import csv\n",
    "import os\n",
    "\n",
    "list_of_revenues=[]\n",
    "list_of_months=[]\n",
    "revenulist=[]\n",
    "avg=[]\n",
    "#The average change in revenue between months over the entire period\n",
    "\n",
    "#The greatest increase in revenue (date and amount) over the entire period\n",
    "\n",
    "#The greatest decrease in revenue (date and amount) over the entire period\n",
    "\n",
    "csvpath = os.path.join('raw_data', 'budget_data_1.csv')\n",
    "with open(csvpath, newline='') as csvfile:\n",
    "\n",
    "    # CSV reader specifies delimiter and variable that holds contents\n",
    "    csvreader = csv.reader(csvfile, delimiter=',')\n",
    "    next(csvreader, None)\n",
    "    print(csvreader)\n",
    "\n",
    "    #  Each row is read as a row\n",
    "    for row in csvreader:\n",
    "         list_of_revenues.append(int(row[1]))\n",
    "         list_of_months.append(str(row[0]))\n",
    "print(\"total Month\")\n",
    "print(len(list_of_months))\n",
    "print(\"total Revenue\")\n",
    "print(sum(list_of_revenues))\n",
    "\n",
    "max_rev=max(list_of_revenues)\n",
    "print(list_of_revenues[0])\n",
    "for i in range(0, len(list_of_revenues),2):\n",
    "    avg.append((list_of_revenues[i]+list_of_revenues[i])/2)\n",
    "print(\"average change:\")\n",
    "print(avg)\n",
    "revenue_max_index=list_of_revenues.index(max_rev)\n",
    "print(\"Max Revenue Month\")\n",
    "print((list_of_months[revenue_max_index]))\n",
    "print(\"Max revenue Value\")\n",
    "print(max(list_of_revenues))"
   ]
  },
  {
   "cell_type": "code",
   "execution_count": null,
   "metadata": {
    "collapsed": true
   },
   "outputs": [],
   "source": []
  },
  {
   "cell_type": "code",
   "execution_count": null,
   "metadata": {
    "collapsed": true
   },
   "outputs": [],
   "source": []
  }
 ],
 "metadata": {
  "kernelspec": {
   "display_name": "Python 3",
   "language": "python",
   "name": "python3"
  },
  "language_info": {
   "codemirror_mode": {
    "name": "ipython",
    "version": 3
   },
   "file_extension": ".py",
   "mimetype": "text/x-python",
   "name": "python",
   "nbconvert_exporter": "python",
   "pygments_lexer": "ipython3",
   "version": "3.6.2"
  }
 },
 "nbformat": 4,
 "nbformat_minor": 2
}
