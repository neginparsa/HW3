{
 "cells": [
  {
   "cell_type": "code",
   "execution_count": null,
   "metadata": {
    "collapsed": true
   },
   "outputs": [],
   "source": [
    "import csv\n",
    "\n",
    "file_input = \"raw_data/election_data_2.csv\"\n",
    "file_to_output = \"analysis/election_analysis.txt\"\n",
    "\n",
    "total_votes = 0\n",
    "\n",
    "candidate_list = []\n",
    "candidate_votes = {}\n",
    "winning_candidate = \"\"\n",
    "winning_count = 0\n",
    "\n",
    "with open(file_input) as election_data:\n",
    "    reader = csv.DictReader(election_data)\n",
    "\n",
    "    for row in reader:\n",
    "\n",
    "        print(\". \", end=\"\"),\n",
    "        total_votes = total_votes + 1\n",
    "        candidate_name = row[\"Candidate\"]\n",
    "\n",
    "        if candidate_name not in candidate_list:\n",
    "\n",
    "            candidate_list.append(candidate_name)\n",
    "\n",
    "            \n",
    "            candidate_votes[candidate_name] = 0\n",
    "\n",
    "        candidate_votes[candidate_name] = candidate_votes[candidate_name] + 1\n",
    "\n",
    "with open(file_to_output, \"w\") as txt_file:\n",
    "\n",
    "\n",
    "    election_results = (\n",
    "        f\"\\n\\nElection Results\\n\"\n",
    "        f\"-------------------------\\n\"\n",
    "        f\"Total Votes: {total_votes}\\n\"\n",
    "        f\"-------------------------\\n\")\n",
    "    print(election_results, end=\"\")\n",
    "\n",
    "    txt_file.write(election_results)\n",
    "\n",
    "    for candidate in candidate_votes:\n",
    "\n",
    "        votes = candidate_votes.get(candidate)\n",
    "        vote_percentage = float(votes) / float(total_votes) * 100\n",
    "\n",
    "        if (votes > winning_count):\n",
    "            winning_count = votes\n",
    "            winning_candidate = candidate\n",
    "\n",
    "\n",
    "        voter_output = f\"{candidate}: {vote_percentage:.3f}% ({votes})\\n\"\n",
    "        print(voter_output, end=\"\")\n",
    "\n",
    "        txt_file.write(voter_output)\n",
    "\n",
    "    winning_candidate_summary = (\n",
    "        f\"-------------------------\\n\"\n",
    "        f\"Winner: {winning_candidate}\\n\"\n",
    "        f\"-------------------------\\n\")\n",
    "    print(winning_candidate_summary)\n",
    "\n",
    "\n",
    "    txt_file.write(winning_candidate_summary)"
   ]
  },
  {
   "cell_type": "code",
   "execution_count": null,
   "metadata": {
    "collapsed": true
   },
   "outputs": [],
   "source": []
  }
 ],
 "metadata": {
  "kernelspec": {
   "display_name": "Python 3",
   "language": "python",
   "name": "python3"
  },
  "language_info": {
   "codemirror_mode": {
    "name": "ipython",
    "version": 3
   },
   "file_extension": ".py",
   "mimetype": "text/x-python",
   "name": "python",
   "nbconvert_exporter": "python",
   "pygments_lexer": "ipython3",
   "version": "3.6.2"
  }
 },
 "nbformat": 4,
 "nbformat_minor": 2
}
